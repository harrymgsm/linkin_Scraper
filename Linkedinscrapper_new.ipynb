{
 "cells": [
  {
   "cell_type": "code",
   "execution_count": 226,
   "id": "64217a00-db50-46e0-93eb-75f4396de27b",
   "metadata": {},
   "outputs": [
    {
     "name": "stdout",
     "output_type": "stream",
     "text": [
      "Requirement already satisfied: selenium in c:\\users\\chetn\\anaconda_new\\envs\\notebook\\lib\\site-packages (4.18.1)\n",
      "Requirement already satisfied: urllib3<3,>=1.26 in c:\\users\\chetn\\anaconda_new\\envs\\notebook\\lib\\site-packages (from urllib3[socks]<3,>=1.26->selenium) (2.1.0)\n",
      "Requirement already satisfied: trio~=0.17 in c:\\users\\chetn\\anaconda_new\\envs\\notebook\\lib\\site-packages (from selenium) (0.24.0)\n",
      "Requirement already satisfied: trio-websocket~=0.9 in c:\\users\\chetn\\anaconda_new\\envs\\notebook\\lib\\site-packages (from selenium) (0.11.1)\n",
      "Requirement already satisfied: certifi>=2021.10.8 in c:\\users\\chetn\\anaconda_new\\envs\\notebook\\lib\\site-packages (from selenium) (2024.2.2)\n",
      "Requirement already satisfied: typing_extensions>=4.9.0 in c:\\users\\chetn\\anaconda_new\\envs\\notebook\\lib\\site-packages (from selenium) (4.9.0)\n",
      "Requirement already satisfied: attrs>=20.1.0 in c:\\users\\chetn\\anaconda_new\\envs\\notebook\\lib\\site-packages (from trio~=0.17->selenium) (23.1.0)\n",
      "Requirement already satisfied: sortedcontainers in c:\\users\\chetn\\anaconda_new\\envs\\notebook\\lib\\site-packages (from trio~=0.17->selenium) (2.4.0)\n",
      "Requirement already satisfied: idna in c:\\users\\chetn\\anaconda_new\\envs\\notebook\\lib\\site-packages (from trio~=0.17->selenium) (3.4)\n",
      "Requirement already satisfied: outcome in c:\\users\\chetn\\anaconda_new\\envs\\notebook\\lib\\site-packages (from trio~=0.17->selenium) (1.3.0.post0)\n",
      "Requirement already satisfied: sniffio>=1.3.0 in c:\\users\\chetn\\anaconda_new\\envs\\notebook\\lib\\site-packages (from trio~=0.17->selenium) (1.3.0)\n",
      "Requirement already satisfied: cffi>=1.14 in c:\\users\\chetn\\anaconda_new\\envs\\notebook\\lib\\site-packages (from trio~=0.17->selenium) (1.16.0)\n",
      "Requirement already satisfied: wsproto>=0.14 in c:\\users\\chetn\\anaconda_new\\envs\\notebook\\lib\\site-packages (from trio-websocket~=0.9->selenium) (1.2.0)\n",
      "Requirement already satisfied: pysocks!=1.5.7,<2.0,>=1.5.6 in c:\\users\\chetn\\anaconda_new\\envs\\notebook\\lib\\site-packages (from urllib3[socks]<3,>=1.26->selenium) (1.7.1)\n",
      "Requirement already satisfied: pycparser in c:\\users\\chetn\\anaconda_new\\envs\\notebook\\lib\\site-packages (from cffi>=1.14->trio~=0.17->selenium) (2.21)\n",
      "Requirement already satisfied: h11<1,>=0.9.0 in c:\\users\\chetn\\anaconda_new\\envs\\notebook\\lib\\site-packages (from wsproto>=0.14->trio-websocket~=0.9->selenium) (0.14.0)\n"
     ]
    }
   ],
   "source": [
    "!pip install selenium\n",
    "\n",
    "\n",
    "\n",
    "\n",
    "\n"
   ]
  },
  {
   "cell_type": "code",
   "execution_count": 227,
   "id": "c9def111-e7da-4f7e-bcb8-3eb7aaaabb42",
   "metadata": {},
   "outputs": [],
   "source": [
    "from selenium import webdriver\n",
    "from selenium.webdriver.firefox.options import Options\n",
    "\n",
    "\n"
   ]
  },
  {
   "cell_type": "code",
   "execution_count": 228,
   "id": "4d7b4a92-ae07-403e-99b4-79c80c9fca3f",
   "metadata": {},
   "outputs": [],
   "source": [
    "\n",
    "options = Options()\n",
    "options.binary_location = r'C:\\Program Files\\Mozilla Firefox\\firefox.exe'\n",
    "\n"
   ]
  },
  {
   "cell_type": "code",
   "execution_count": 229,
   "id": "1dfad8ff-ddb4-49c2-851c-661bd87bd118",
   "metadata": {},
   "outputs": [
    {
     "name": "stdout",
     "output_type": "stream",
     "text": [
      "Requirement already satisfied: webdriver_manager in c:\\users\\chetn\\anaconda_new\\envs\\notebook\\lib\\site-packages (4.0.1)\n",
      "Requirement already satisfied: requests in c:\\users\\chetn\\anaconda_new\\envs\\notebook\\lib\\site-packages (from webdriver_manager) (2.31.0)\n",
      "Requirement already satisfied: python-dotenv in c:\\users\\chetn\\anaconda_new\\envs\\notebook\\lib\\site-packages (from webdriver_manager) (1.0.1)\n",
      "Requirement already satisfied: packaging in c:\\users\\chetn\\anaconda_new\\envs\\notebook\\lib\\site-packages (from webdriver_manager) (23.1)\n",
      "Requirement already satisfied: charset-normalizer<4,>=2 in c:\\users\\chetn\\anaconda_new\\envs\\notebook\\lib\\site-packages (from requests->webdriver_manager) (2.0.4)\n",
      "Requirement already satisfied: idna<4,>=2.5 in c:\\users\\chetn\\anaconda_new\\envs\\notebook\\lib\\site-packages (from requests->webdriver_manager) (3.4)\n",
      "Requirement already satisfied: urllib3<3,>=1.21.1 in c:\\users\\chetn\\anaconda_new\\envs\\notebook\\lib\\site-packages (from requests->webdriver_manager) (2.1.0)\n",
      "Requirement already satisfied: certifi>=2017.4.17 in c:\\users\\chetn\\anaconda_new\\envs\\notebook\\lib\\site-packages (from requests->webdriver_manager) (2024.2.2)\n",
      "Note: you may need to restart the kernel to use updated packages.\n"
     ]
    }
   ],
   "source": [
    "pip install webdriver_manager\n"
   ]
  },
  {
   "cell_type": "code",
   "execution_count": 230,
   "id": "d0b16bf0-aea7-4a45-bc21-31b4662e6bc3",
   "metadata": {},
   "outputs": [
    {
     "data": {
      "text/plain": [
       "'C:\\\\Users\\\\chetn\\\\.wdm\\\\drivers\\\\geckodriver\\\\win64\\\\v0.34.0\\\\geckodriver.exe'"
      ]
     },
     "execution_count": 230,
     "metadata": {},
     "output_type": "execute_result"
    }
   ],
   "source": [
    "from selenium import webdriver\n",
    "from selenium.webdriver.common.by import By\n",
    "from selenium.webdriver.common.keys import Keys\n",
    "from webdriver_manager.firefox import GeckoDriverManager\n",
    "import time\n",
    "\n",
    "\n",
    "\n",
    "# LinkedIn credentials\n",
    "linkedin_email = \"chetnagirish2@gmail.com\"\n",
    "linkedin_password = \"Boss1234$\"\n",
    "\n",
    "# Set up GeckoDriver\n",
    "GeckoDriverManager().install()"
   ]
  },
  {
   "cell_type": "code",
   "execution_count": 231,
   "id": "271f2b96-8514-458b-9766-e97e8ce3ae0b",
   "metadata": {},
   "outputs": [],
   "source": [
    "# Initialize the Firefox webdriver\n",
    "options = Options()\n",
    "driver = webdriver.Firefox(options=options)"
   ]
  },
  {
   "cell_type": "code",
   "execution_count": 232,
   "id": "8a88b18d-484e-4163-ab85-b403420ef4d5",
   "metadata": {},
   "outputs": [],
   "source": [
    "import re\n",
    "\n",
    "def check_element (elem):\n",
    "    if elem is None: \n",
    "        return ''\n",
    "    if len (elem) > 0:\n",
    "        return elem.text.strip()\n",
    "    else:\n",
    "        return ''\n",
    "\n",
    "\n",
    "\n",
    "def extract_hourly_or_salary_range(salary_string):\n",
    "    hourly_match = re.search(r'\\$([\\d,]+(?:\\.\\d+)?)\\s?(?:-|to)?\\s?\\$?([\\d,]+(?:\\.\\d+)?)?\\s?\\/\\s?hr', salary_string)\n",
    "    salary_match = re.search(r'\\$([\\d,]+(?:\\.\\d+)?)\\s?K?\\s?\\/\\s?yr\\s?(?:-|to)?\\s?\\$?([\\d,]+(?:\\.\\d+)?)?\\s?K?\\s?\\/\\s?yr', salary_string)\n",
    "\n",
    "    if hourly_match:\n",
    "        hourly_rate_lower = float(hourly_match.group(1).replace(',', ''))\n",
    "        hourly_rate_upper = float(hourly_match.group(2).replace(',', '')) if hourly_match.group(2) else hourly_rate_lower\n",
    "\n",
    "        # Assuming 40 hours per week and 52 weeks per year\n",
    "        annual_lower = hourly_rate_lower * 40 * 52\n",
    "        annual_upper = hourly_rate_upper * 40 * 52\n",
    "\n",
    "        average = (annual_lower + annual_upper) / 2\n",
    "\n",
    "        return [annual_lower, annual_upper, average]\n",
    "    elif salary_match:\n",
    "        salary_lower = float(salary_match.group(1).replace(',', '')) * 1000\n",
    "        salary_upper = float(salary_match.group(2).replace(',', '')) * 1000 if salary_match.group(2) else salary_lower\n",
    "\n",
    "        average = (salary_lower + salary_upper) / 2\n",
    "\n",
    "        return [salary_lower, salary_upper, average]\n",
    "    else:\n",
    "        return [0,0,0]\n"
   ]
  },
  {
   "cell_type": "code",
   "execution_count": 233,
   "id": "43861e0b-88b2-42fd-9dcf-72b02e5a3232",
   "metadata": {},
   "outputs": [],
   "source": [
    "# Open LinkedIn login page\n",
    "driver.get('https://www.linkedin.com/jobs')"
   ]
  },
  {
   "cell_type": "code",
   "execution_count": 234,
   "id": "1025421f-7bd3-42f5-8345-9d2eafa55aeb",
   "metadata": {},
   "outputs": [],
   "source": [
    "email_input = driver.find_element(\"name\", \"session_key\")\n",
    "password_input = driver.find_element(\"name\", \"session_password\")\n",
    "login_button = driver.find_element(\"xpath\", \"//button[@type='submit']\")"
   ]
  },
  {
   "cell_type": "code",
   "execution_count": 235,
   "id": "e2693b46-f5c5-40b5-9c79-9e48752ceaa7",
   "metadata": {},
   "outputs": [],
   "source": [
    "email_input.send_keys(linkedin_email)\n",
    "password_input.send_keys(linkedin_password)"
   ]
  },
  {
   "cell_type": "code",
   "execution_count": 236,
   "id": "ac89b4a3-458f-41ef-911b-16187550b4ed",
   "metadata": {},
   "outputs": [],
   "source": [
    "login_button.click()"
   ]
  },
  {
   "cell_type": "code",
   "execution_count": 237,
   "id": "fa4b57c3-20e1-4b6b-ad3e-5e8479ae2417",
   "metadata": {},
   "outputs": [],
   "source": [
    "search_box = driver.find_element(By.CLASS_NAME, 'jobs-search-box__text-input')\n",
    "search_box.send_keys('Data Analyst')\n",
    "search_box.send_keys(Keys.RETURN)\n"
   ]
  },
  {
   "cell_type": "code",
   "execution_count": 238,
   "id": "c3a4f6bf-c6e0-4589-a253-b7d04ef25054",
   "metadata": {},
   "outputs": [],
   "source": [
    "from selenium.webdriver.common.by import By\n",
    "from selenium.webdriver.support.ui import WebDriverWait\n",
    "from selenium.webdriver.support import expected_conditions as EC\n",
    "\n",
    "# Wait for the element to be visible\n",
    "WebDriverWait(driver, 10).until(EC.visibility_of_element_located((By.ID, \"searchFilter_timePostedRange\")))\n",
    "\n",
    "# Once visible, locate and click on the element\n",
    "date_filter = driver.find_element(By.ID, \"searchFilter_timePostedRange\")\n",
    "date_filter.click()\n",
    "\n",
    "#date_filter = driver.find_element(\"id\", \"searchFilter_timePostedRange\")\n",
    "#date_filter.click()\n"
   ]
  },
  {
   "cell_type": "code",
   "execution_count": 239,
   "id": "2ab91a81-5c01-4528-8ec4-c829c0dade63",
   "metadata": {},
   "outputs": [],
   "source": [
    "class_name = \"t-14 t-black--light t-normal\"\n",
    "span_text = \"week\"\n",
    "\n",
    "past_week_x_path= f\"//span[@class='{class_name}' and contains(.,'{span_text}')]\"\n",
    "past_week = driver.find_element(\"xpath\", past_week_x_path)\n",
    "past_week.click()\n"
   ]
  },
  {
   "cell_type": "code",
   "execution_count": 240,
   "id": "ab42410d-9b6e-4155-ac3d-f022603ec73c",
   "metadata": {},
   "outputs": [],
   "source": [
    "from selenium.webdriver.common.by import By\n",
    "from selenium.webdriver.support.ui import WebDriverWait\n",
    "from selenium.webdriver.support import expected_conditions as EC\n",
    "\n",
    "class_name = \"artdeco-button__text\"\n",
    "span_text = \"results\"\n",
    "show_results_xpath = f\"//span[@class='{class_name}' and contains(.,'{span_text}')]\"\n",
    "# Wait for the element to be clickable\n",
    "show_results = WebDriverWait(driver, 10).until(EC.element_to_be_clickable((By.XPATH, show_results_xpath)))\n",
    "show_results.click()\n",
    "\n"
   ]
  },
  {
   "cell_type": "code",
   "execution_count": 241,
   "id": "09c9fa7f-7980-4e15-8bb4-ff1b13ac8a7a",
   "metadata": {},
   "outputs": [],
   "source": [
    "jobs_block = driver.find_element(By.CSS_SELECTOR, '.scaffold-layout__list-container')\n",
    "jobs_list= jobs_block.find_elements(By.CSS_SELECTOR, '.jobs-search-results__list-item')\n"
   ]
  },
  {
   "cell_type": "code",
   "execution_count": 242,
   "id": "85c1af52-d937-474c-9c55-ee0c33b958e6",
   "metadata": {},
   "outputs": [],
   "source": [
    "# browser.execute_script(\"arguments[0].scrollIntoView();\", target_li_elements[24])\n",
    "driver.execute_script(\"arguments[0].scrollIntoView();\", jobs_list[len(jobs_list)-1])"
   ]
  },
  {
   "cell_type": "code",
   "execution_count": 243,
   "id": "6f1b1b29-096f-40f0-b450-f6d304218a58",
   "metadata": {},
   "outputs": [],
   "source": [
    "from bs4 import BeautifulSoup\n",
    "soup = BeautifulSoup(driver.page_source, \"html.parser\")\n"
   ]
  },
  {
   "cell_type": "code",
   "execution_count": 244,
   "id": "ddcbe336-beb4-4bc5-a4f9-ed2eff42a4f7",
   "metadata": {},
   "outputs": [],
   "source": [
    "target_class = 'jobs-search-results'\n",
    "target_li_elements = soup.find_all('li', class_=lambda x: x and 'jobs-search-results__list-item' in x)"
   ]
  },
  {
   "cell_type": "code",
   "execution_count": null,
   "id": "8611fe72-492f-4e73-ae2d-620a7398ba0e",
   "metadata": {},
   "outputs": [],
   "source": []
  },
  {
   "cell_type": "code",
   "execution_count": null,
   "id": "096c6e2c-a076-450f-a709-81698052e900",
   "metadata": {},
   "outputs": [],
   "source": []
  },
  {
   "cell_type": "code",
   "execution_count": 245,
   "id": "440d5427-8500-479c-8d99-81ddca6495c7",
   "metadata": {},
   "outputs": [],
   "source": [
    "\n",
    "num = 1\n",
    "job_title = check_element(target_li_elements[num].find('a', class_=lambda x: x and 'title' in x))\n",
    "\n",
    "# Assuming extract_hourly_or_salary_range and target_li_elements are defined elsewhere\n",
    "company = check_element(target_li_elements[num].find('span', class_='job-card-container__primary-description'))\n",
    "location = check_element(target_li_elements[num].find('div', class_='artdeco-entity-lockup__caption ember-view'))\n",
    "salary = check_element(target_li_elements[num].find('div', class_= lambda x: x and 'mt1 t-sans t-12 t-black--light' in x))\n",
    "link = target_li_elements[num].find('a').get('href')\n",
    "\n",
    "dic = {\n",
    "    'job_title': job_title,\n",
    "    'company': company,\n",
    "    'location': location,\n",
    "    'salary_string': salary,\n",
    "    'lower_bound_extracted_salary': extract_hourly_or_salary_range(salary)[0],\n",
    "    'upper_extracted_salary': extract_hourly_or_salary_range(salary)[1],\n",
    "    'average_extracted_salary': extract_hourly_or_salary_range(salary)[2],\n",
    "    'link': 'www.linkedin.com' + link\n",
    "}"
   ]
  },
  {
   "cell_type": "code",
   "execution_count": 246,
   "id": "16a711e6-f942-4ef8-8aa5-46b766c666fa",
   "metadata": {},
   "outputs": [],
   "source": [
    "from selenium.webdriver.common.by import By\n",
    "from selenium.webdriver.support.ui import WebDriverWait\n",
    "from selenium.webdriver.support import expected_conditions as EC\n",
    "from selenium.common.exceptions import ElementClickInterceptedException\n",
    "import time\n",
    "\n",
    "# Define the XPath expression for the next page button\n",
    "next_page_xpath = \"//button[@aria-label='Page \" + str(page) + \"']\"\n",
    "\n",
    "# Wait for the next page button to be clickable\n",
    "wait = WebDriverWait(driver, 10)\n",
    "next_page = wait.until(EC.element_to_be_clickable((By.XPATH, next_page_xpath)))\n",
    "\n",
    "# Retry the click with a delay if it fails due to interception\n",
    "retry_attempts = 3\n",
    "for attempt in range(retry_attempts):\n",
    "    try:\n",
    "        next_page.click()\n",
    "        break  # Click successful, exit the loop\n",
    "    except ElementClickInterceptedException:\n",
    "        print(\"Click intercepted. Retrying...\")\n",
    "        time.sleep(1)  # Wait for 1 second before retrying\n",
    "else:\n",
    "    print(\"Failed to click after {} attempts\".format(retry_attempts))"
   ]
  },
  {
   "cell_type": "code",
   "execution_count": 247,
   "id": "1dfd24d1-4166-4daf-a7e0-9254be4cdf74",
   "metadata": {},
   "outputs": [
    {
     "data": {
      "text/plain": [
       "25"
      ]
     },
     "execution_count": 247,
     "metadata": {},
     "output_type": "execute_result"
    }
   ],
   "source": [
    "len (jobs_list)"
   ]
  },
  {
   "cell_type": "code",
   "execution_count": 248,
   "id": "177de70f-e81f-4f68-9bf2-9292890cc48d",
   "metadata": {
    "scrolled": true
   },
   "outputs": [
    {
     "name": "stdout",
     "output_type": "stream",
     "text": [
      "__________\n"
     ]
    },
    {
     "ename": "StaleElementReferenceException",
     "evalue": "Message: The element with the reference 832226b3-e7de-4aa5-be3d-e5dec0f2319f is stale; either its node document is not the active document, or it is no longer connected to the DOM; For documentation on this error, please visit: https://www.selenium.dev/documentation/webdriver/troubleshooting/errors#stale-element-reference-exception\nStacktrace:\nRemoteError@chrome://remote/content/shared/RemoteError.sys.mjs:8:8\nWebDriverError@chrome://remote/content/shared/webdriver/Errors.sys.mjs:191:5\nStaleElementReferenceError@chrome://remote/content/shared/webdriver/Errors.sys.mjs:708:5\ngetKnownElement@chrome://remote/content/marionette/json.sys.mjs:401:11\ndeserializeJSON@chrome://remote/content/marionette/json.sys.mjs:259:20\ncloneObject/result<@chrome://remote/content/marionette/json.sys.mjs:53:52\ncloneObject@chrome://remote/content/marionette/json.sys.mjs:53:25\ndeserializeJSON@chrome://remote/content/marionette/json.sys.mjs:289:16\ncloneObject@chrome://remote/content/marionette/json.sys.mjs:59:24\ndeserializeJSON@chrome://remote/content/marionette/json.sys.mjs:289:16\njson.deserialize@chrome://remote/content/marionette/json.sys.mjs:293:10\nreceiveMessage@chrome://remote/content/marionette/actors/MarionetteCommandsChild.sys.mjs:72:30\n",
     "output_type": "error",
     "traceback": [
      "\u001b[1;31m---------------------------------------------------------------------------\u001b[0m",
      "\u001b[1;31mStaleElementReferenceException\u001b[0m            Traceback (most recent call last)",
      "Cell \u001b[1;32mIn[248], line 5\u001b[0m\n\u001b[0;32m      3\u001b[0m \u001b[38;5;28mprint\u001b[39m(\u001b[38;5;124m\"\u001b[39m\u001b[38;5;124m__________\u001b[39m\u001b[38;5;124m\"\u001b[39m)\n\u001b[0;32m      4\u001b[0m n\u001b[38;5;241m+\u001b[39m\u001b[38;5;241m=\u001b[39m\u001b[38;5;241m1\u001b[39m\n\u001b[1;32m----> 5\u001b[0m driver\u001b[38;5;241m.\u001b[39mexecute_script(\u001b[38;5;124m\"\u001b[39m\u001b[38;5;124marguments[0].scrollIntoView();\u001b[39m\u001b[38;5;124m\"\u001b[39m, jobs_list[n\u001b[38;5;241m-\u001b[39m\u001b[38;5;241m1\u001b[39m])\n\u001b[0;32m      6\u001b[0m \u001b[38;5;28mprint\u001b[39m(n, \u001b[38;5;124m\"\u001b[39m\u001b[38;5;124m \u001b[39m\u001b[38;5;124m\"\u001b[39m,i\u001b[38;5;241m.\u001b[39mtext)\n\u001b[0;32m      7\u001b[0m \u001b[38;5;28;01mbreak\u001b[39;00m\n",
      "File \u001b[1;32m~\\anaconda_new\\envs\\notebook\\Lib\\site-packages\\selenium\\webdriver\\remote\\webdriver.py:407\u001b[0m, in \u001b[0;36mWebDriver.execute_script\u001b[1;34m(self, script, *args)\u001b[0m\n\u001b[0;32m    404\u001b[0m converted_args \u001b[38;5;241m=\u001b[39m \u001b[38;5;28mlist\u001b[39m(args)\n\u001b[0;32m    405\u001b[0m command \u001b[38;5;241m=\u001b[39m Command\u001b[38;5;241m.\u001b[39mW3C_EXECUTE_SCRIPT\n\u001b[1;32m--> 407\u001b[0m \u001b[38;5;28;01mreturn\u001b[39;00m \u001b[38;5;28mself\u001b[39m\u001b[38;5;241m.\u001b[39mexecute(command, {\u001b[38;5;124m\"\u001b[39m\u001b[38;5;124mscript\u001b[39m\u001b[38;5;124m\"\u001b[39m: script, \u001b[38;5;124m\"\u001b[39m\u001b[38;5;124margs\u001b[39m\u001b[38;5;124m\"\u001b[39m: converted_args})[\u001b[38;5;124m\"\u001b[39m\u001b[38;5;124mvalue\u001b[39m\u001b[38;5;124m\"\u001b[39m]\n",
      "File \u001b[1;32m~\\anaconda_new\\envs\\notebook\\Lib\\site-packages\\selenium\\webdriver\\remote\\webdriver.py:347\u001b[0m, in \u001b[0;36mWebDriver.execute\u001b[1;34m(self, driver_command, params)\u001b[0m\n\u001b[0;32m    345\u001b[0m response \u001b[38;5;241m=\u001b[39m \u001b[38;5;28mself\u001b[39m\u001b[38;5;241m.\u001b[39mcommand_executor\u001b[38;5;241m.\u001b[39mexecute(driver_command, params)\n\u001b[0;32m    346\u001b[0m \u001b[38;5;28;01mif\u001b[39;00m response:\n\u001b[1;32m--> 347\u001b[0m     \u001b[38;5;28mself\u001b[39m\u001b[38;5;241m.\u001b[39merror_handler\u001b[38;5;241m.\u001b[39mcheck_response(response)\n\u001b[0;32m    348\u001b[0m     response[\u001b[38;5;124m\"\u001b[39m\u001b[38;5;124mvalue\u001b[39m\u001b[38;5;124m\"\u001b[39m] \u001b[38;5;241m=\u001b[39m \u001b[38;5;28mself\u001b[39m\u001b[38;5;241m.\u001b[39m_unwrap_value(response\u001b[38;5;241m.\u001b[39mget(\u001b[38;5;124m\"\u001b[39m\u001b[38;5;124mvalue\u001b[39m\u001b[38;5;124m\"\u001b[39m, \u001b[38;5;28;01mNone\u001b[39;00m))\n\u001b[0;32m    349\u001b[0m     \u001b[38;5;28;01mreturn\u001b[39;00m response\n",
      "File \u001b[1;32m~\\anaconda_new\\envs\\notebook\\Lib\\site-packages\\selenium\\webdriver\\remote\\errorhandler.py:229\u001b[0m, in \u001b[0;36mErrorHandler.check_response\u001b[1;34m(self, response)\u001b[0m\n\u001b[0;32m    227\u001b[0m         alert_text \u001b[38;5;241m=\u001b[39m value[\u001b[38;5;124m\"\u001b[39m\u001b[38;5;124malert\u001b[39m\u001b[38;5;124m\"\u001b[39m]\u001b[38;5;241m.\u001b[39mget(\u001b[38;5;124m\"\u001b[39m\u001b[38;5;124mtext\u001b[39m\u001b[38;5;124m\"\u001b[39m)\n\u001b[0;32m    228\u001b[0m     \u001b[38;5;28;01mraise\u001b[39;00m exception_class(message, screen, stacktrace, alert_text)  \u001b[38;5;66;03m# type: ignore[call-arg]  # mypy is not smart enough here\u001b[39;00m\n\u001b[1;32m--> 229\u001b[0m \u001b[38;5;28;01mraise\u001b[39;00m exception_class(message, screen, stacktrace)\n",
      "\u001b[1;31mStaleElementReferenceException\u001b[0m: Message: The element with the reference 832226b3-e7de-4aa5-be3d-e5dec0f2319f is stale; either its node document is not the active document, or it is no longer connected to the DOM; For documentation on this error, please visit: https://www.selenium.dev/documentation/webdriver/troubleshooting/errors#stale-element-reference-exception\nStacktrace:\nRemoteError@chrome://remote/content/shared/RemoteError.sys.mjs:8:8\nWebDriverError@chrome://remote/content/shared/webdriver/Errors.sys.mjs:191:5\nStaleElementReferenceError@chrome://remote/content/shared/webdriver/Errors.sys.mjs:708:5\ngetKnownElement@chrome://remote/content/marionette/json.sys.mjs:401:11\ndeserializeJSON@chrome://remote/content/marionette/json.sys.mjs:259:20\ncloneObject/result<@chrome://remote/content/marionette/json.sys.mjs:53:52\ncloneObject@chrome://remote/content/marionette/json.sys.mjs:53:25\ndeserializeJSON@chrome://remote/content/marionette/json.sys.mjs:289:16\ncloneObject@chrome://remote/content/marionette/json.sys.mjs:59:24\ndeserializeJSON@chrome://remote/content/marionette/json.sys.mjs:289:16\njson.deserialize@chrome://remote/content/marionette/json.sys.mjs:293:10\nreceiveMessage@chrome://remote/content/marionette/actors/MarionetteCommandsChild.sys.mjs:72:30\n"
     ]
    }
   ],
   "source": [
    "n = 13\n",
    "for i in jobs_list:\n",
    "    print(\"__________\")\n",
    "    n+=1\n",
    "    driver.execute_script(\"arguments[0].scrollIntoView();\", jobs_list[n-1])\n",
    "    print(n, \" \",i.text)\n",
    "    break"
   ]
  },
  {
   "cell_type": "code",
   "execution_count": null,
   "id": "85aef976-24c4-4664-bbb0-7548a3e4df78",
   "metadata": {},
   "outputs": [],
   "source": []
  },
  {
   "cell_type": "code",
   "execution_count": null,
   "id": "9cb53c2e-314d-4046-8fdb-926ed1665096",
   "metadata": {},
   "outputs": [],
   "source": []
  },
  {
   "cell_type": "code",
   "execution_count": null,
   "id": "1fd99c6b-11be-4747-9317-d11e7fd7322b",
   "metadata": {},
   "outputs": [],
   "source": []
  }
 ],
 "metadata": {
  "kernelspec": {
   "display_name": "Python 3 (ipykernel)",
   "language": "python",
   "name": "python3"
  },
  "language_info": {
   "codemirror_mode": {
    "name": "ipython",
    "version": 3
   },
   "file_extension": ".py",
   "mimetype": "text/x-python",
   "name": "python",
   "nbconvert_exporter": "python",
   "pygments_lexer": "ipython3",
   "version": "3.12.2"
  }
 },
 "nbformat": 4,
 "nbformat_minor": 5
}
